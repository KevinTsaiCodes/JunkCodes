{
 "cells": [
  {
   "cell_type": "markdown",
   "metadata": {},
   "source": [
    "批訓練，將神經網路進行一小步一小步訓練"
   ]
  },
  {
   "cell_type": "markdown",
   "metadata": {},
   "source": [
    "## Import Library"
   ]
  },
  {
   "cell_type": "code",
   "execution_count": 3,
   "metadata": {},
   "outputs": [],
   "source": [
    "import torch\n",
    "import torch.utils.data as Data # Data, 進行小批訓練的途徑"
   ]
  },
  {
   "cell_type": "markdown",
   "metadata": {},
   "source": [
    "### Create fake data"
   ]
  },
  {
   "cell_type": "code",
   "execution_count": 5,
   "metadata": {},
   "outputs": [],
   "source": [
    "BATCH_SIZE = 5 # 一次抓取五個資料進行訓練\n",
    "x = torch.linspace(1,10,10) # x data(torch tensor)\n",
    "y = torch.linspace(10,1,10) # y data(torch tensor)\n",
    "# 記得, torch.linspace(起始值,終點值(包含),以多少作為間隔)"
   ]
  },
  {
   "cell_type": "code",
   "execution_count": 11,
   "metadata": {},
   "outputs": [],
   "source": [
    "torch_dataset = Data.TensorDataset(x, y) # x = data_tensor, y = target_tensor"
   ]
  },
  {
   "cell_type": "markdown",
   "metadata": {},
   "source": [
    "data_tensor 為進行訓練\n",
    "target_tensor 為算誤差"
   ]
  },
  {
   "cell_type": "code",
   "execution_count": 18,
   "metadata": {},
   "outputs": [],
   "source": [
    "loader = Data.DataLoader(\n",
    "    dataset = torch_dataset, # torch TensorDataset format\n",
    "    batch_size = BATCH_SIZE, # mini batch size\n",
    "    shuffle = True, # random shuffle for training\n",
    "    num_workers = 2 # subprocesses for loading data\n",
    ") # 使訓練變成一小批一小批"
   ]
  },
  {
   "cell_type": "markdown",
   "metadata": {},
   "source": [
    "### Start Training"
   ]
  },
  {
   "cell_type": "code",
   "execution_count": 19,
   "metadata": {},
   "outputs": [
    {
     "name": "stdout",
     "output_type": "stream",
     "text": [
      "Epoch:  0 | Step:  0 | batch x:  [7. 6. 4. 8. 3.] | batch y:  [4. 5. 7. 3. 8.]\n",
      "Epoch:  0 | Step:  1 | batch x:  [ 9. 10.  5.  1.  2.] | batch y:  [ 2.  1.  6. 10.  9.]\n",
      "Epoch:  1 | Step:  0 | batch x:  [3. 7. 8. 4. 5.] | batch y:  [8. 4. 3. 7. 6.]\n",
      "Epoch:  1 | Step:  1 | batch x:  [ 9. 10.  6.  2.  1.] | batch y:  [ 2.  1.  5.  9. 10.]\n",
      "Epoch:  2 | Step:  0 | batch x:  [3. 8. 5. 1. 2.] | batch y:  [ 8.  3.  6. 10.  9.]\n",
      "Epoch:  2 | Step:  1 | batch x:  [ 6.  9.  7.  4. 10.] | batch y:  [5. 2. 4. 7. 1.]\n"
     ]
    }
   ],
   "source": [
    "for epoch in range(3):\n",
    "    for step, (batch_x, batch_y) in enumerate(loader):  # for each training step\n",
    "        print('Epoch: ', epoch, '| Step: ', step, '| batch x: ',\n",
    "              batch_x.numpy(), '| batch y: ', batch_y.numpy())"
   ]
  },
  {
   "cell_type": "markdown",
   "metadata": {},
   "source": [
    "### Suppose a different batch size that cannot be fully divided by the number of data entreis: "
   ]
  },
  {
   "cell_type": "code",
   "execution_count": 20,
   "metadata": {},
   "outputs": [
    {
     "name": "stdout",
     "output_type": "stream",
     "text": [
      "Epoch:  0 | Step:  0 | batch x:  [ 7.  4.  3.  6. 10.  9.  8.  2.] | batch y:  [4. 7. 8. 5. 1. 2. 3. 9.]\n",
      "Epoch:  0 | Step:  1 | batch x:  [1. 5.] | batch y:  [10.  6.]\n",
      "Epoch:  1 | Step:  0 | batch x:  [ 4.  7.  8.  9.  3.  6. 10.  2.] | batch y:  [7. 4. 3. 2. 8. 5. 1. 9.]\n",
      "Epoch:  1 | Step:  1 | batch x:  [1. 5.] | batch y:  [10.  6.]\n",
      "Epoch:  2 | Step:  0 | batch x:  [ 5.  9.  7.  1.  2.  3.  6. 10.] | batch y:  [ 6.  2.  4. 10.  9.  8.  5.  1.]\n",
      "Epoch:  2 | Step:  1 | batch x:  [8. 4.] | batch y:  [3. 7.]\n"
     ]
    }
   ],
   "source": [
    "BATCH_SIZE = 8\n",
    "loader = Data.DataLoader(\n",
    "    dataset=torch_dataset,      # torch TensorDataset format\n",
    "    batch_size=BATCH_SIZE,      # mini batch size\n",
    "    shuffle=True,               # random shuffle for training\n",
    "    num_workers=2,              # subprocesses for loading data\n",
    ")\n",
    "for epoch in range(3):   # train entire dataset 3 times\n",
    "    for step, (batch_x, batch_y) in enumerate(loader):  # for each training step\n",
    "        # train your data...\n",
    "        print('Epoch: ', epoch, '| Step: ', step, '| batch x: ',\n",
    "              batch_x.numpy(), '| batch y: ', batch_y.numpy())"
   ]
  },
  {
   "cell_type": "code",
   "execution_count": null,
   "metadata": {},
   "outputs": [],
   "source": []
  }
 ],
 "metadata": {
  "kernelspec": {
   "display_name": "Python 3",
   "language": "python",
   "name": "python3"
  },
  "language_info": {
   "codemirror_mode": {
    "name": "ipython",
    "version": 3
   },
   "file_extension": ".py",
   "mimetype": "text/x-python",
   "name": "python",
   "nbconvert_exporter": "python",
   "pygments_lexer": "ipython3",
   "version": "3.7.6"
  }
 },
 "nbformat": 4,
 "nbformat_minor": 4
}
